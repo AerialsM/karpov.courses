{
 "cells": [
  {
   "cell_type": "code",
   "execution_count": 1,
   "metadata": {},
   "outputs": [],
   "source": [
    "import pandas as pd"
   ]
  },
  {
   "cell_type": "code",
   "execution_count": 2,
   "metadata": {
    "scrolled": true
   },
   "outputs": [
    {
     "name": "stdout",
     "output_type": "stream",
     "text": [
      "Данные считаны\n"
     ]
    }
   ],
   "source": [
    "# Считываем данные\n",
    "\n",
    "path = 'https://docs.google.com/spreadsheets/d/e/2PACX-1vR-ti6Su94955DZ4Tky8EbwifpgZf_dTjpBdiVH0Ukhsq94jZdqoHuUytZsFZKfwpXEUCKRFteJRc9P/pub?gid=889004448&single=true&output=csv'\n",
    "df = pd.read_csv(path, parse_dates=[0])\n",
    "print('Данные считаны')"
   ]
  },
  {
   "cell_type": "code",
   "execution_count": 3,
   "metadata": {},
   "outputs": [
    {
     "data": {
      "text/html": [
       "<div>\n",
       "<style scoped>\n",
       "    .dataframe tbody tr th:only-of-type {\n",
       "        vertical-align: middle;\n",
       "    }\n",
       "\n",
       "    .dataframe tbody tr th {\n",
       "        vertical-align: top;\n",
       "    }\n",
       "\n",
       "    .dataframe thead th {\n",
       "        text-align: right;\n",
       "    }\n",
       "</style>\n",
       "<table border=\"1\" class=\"dataframe\">\n",
       "  <thead>\n",
       "    <tr style=\"text-align: right;\">\n",
       "      <th></th>\n",
       "      <th>date</th>\n",
       "      <th>time</th>\n",
       "      <th>event</th>\n",
       "      <th>platform</th>\n",
       "      <th>ad_id</th>\n",
       "      <th>ad_cost_type</th>\n",
       "      <th>ad_cost</th>\n",
       "    </tr>\n",
       "  </thead>\n",
       "  <tbody>\n",
       "    <tr>\n",
       "      <th>0</th>\n",
       "      <td>2019-04-01</td>\n",
       "      <td>2019-04-01 0:00:48</td>\n",
       "      <td>view</td>\n",
       "      <td>web</td>\n",
       "      <td>121288</td>\n",
       "      <td>CPM</td>\n",
       "      <td>187.4</td>\n",
       "    </tr>\n",
       "    <tr>\n",
       "      <th>1</th>\n",
       "      <td>2019-04-01</td>\n",
       "      <td>2019-04-01 0:04:41</td>\n",
       "      <td>view</td>\n",
       "      <td>ios</td>\n",
       "      <td>121288</td>\n",
       "      <td>CPM</td>\n",
       "      <td>187.4</td>\n",
       "    </tr>\n",
       "    <tr>\n",
       "      <th>2</th>\n",
       "      <td>2019-04-01</td>\n",
       "      <td>2019-04-01 0:07:50</td>\n",
       "      <td>view</td>\n",
       "      <td>android</td>\n",
       "      <td>121288</td>\n",
       "      <td>CPM</td>\n",
       "      <td>187.4</td>\n",
       "    </tr>\n",
       "    <tr>\n",
       "      <th>3</th>\n",
       "      <td>2019-04-01</td>\n",
       "      <td>2019-04-01 0:07:50</td>\n",
       "      <td>view</td>\n",
       "      <td>android</td>\n",
       "      <td>121288</td>\n",
       "      <td>CPM</td>\n",
       "      <td>187.4</td>\n",
       "    </tr>\n",
       "    <tr>\n",
       "      <th>4</th>\n",
       "      <td>2019-04-01</td>\n",
       "      <td>2019-04-01 0:08:46</td>\n",
       "      <td>view</td>\n",
       "      <td>ios</td>\n",
       "      <td>121288</td>\n",
       "      <td>CPM</td>\n",
       "      <td>187.4</td>\n",
       "    </tr>\n",
       "  </tbody>\n",
       "</table>\n",
       "</div>"
      ],
      "text/plain": [
       "        date                time event platform   ad_id ad_cost_type  ad_cost\n",
       "0 2019-04-01  2019-04-01 0:00:48  view      web  121288          CPM    187.4\n",
       "1 2019-04-01  2019-04-01 0:04:41  view      ios  121288          CPM    187.4\n",
       "2 2019-04-01  2019-04-01 0:07:50  view  android  121288          CPM    187.4\n",
       "3 2019-04-01  2019-04-01 0:07:50  view  android  121288          CPM    187.4\n",
       "4 2019-04-01  2019-04-01 0:08:46  view      ios  121288          CPM    187.4"
      ]
     },
     "execution_count": 3,
     "metadata": {},
     "output_type": "execute_result"
    }
   ],
   "source": [
    "df.head()"
   ]
  },
  {
   "cell_type": "code",
   "execution_count": 4,
   "metadata": {},
   "outputs": [],
   "source": [
    "# Рассчитываем метрики"
   ]
  },
  {
   "cell_type": "code",
   "execution_count": 5,
   "metadata": {},
   "outputs": [
    {
     "data": {
      "text/html": [
       "<div>\n",
       "<style scoped>\n",
       "    .dataframe tbody tr th:only-of-type {\n",
       "        vertical-align: middle;\n",
       "    }\n",
       "\n",
       "    .dataframe tbody tr th {\n",
       "        vertical-align: top;\n",
       "    }\n",
       "\n",
       "    .dataframe thead th {\n",
       "        text-align: right;\n",
       "    }\n",
       "</style>\n",
       "<table border=\"1\" class=\"dataframe\">\n",
       "  <thead>\n",
       "    <tr style=\"text-align: right;\">\n",
       "      <th>event</th>\n",
       "      <th>click</th>\n",
       "      <th>view</th>\n",
       "    </tr>\n",
       "    <tr>\n",
       "      <th>date</th>\n",
       "      <th></th>\n",
       "      <th></th>\n",
       "    </tr>\n",
       "  </thead>\n",
       "  <tbody>\n",
       "    <tr>\n",
       "      <th>2019-04-01</th>\n",
       "      <td>17</td>\n",
       "      <td>491</td>\n",
       "    </tr>\n",
       "    <tr>\n",
       "      <th>2019-04-02</th>\n",
       "      <td>6</td>\n",
       "      <td>93</td>\n",
       "    </tr>\n",
       "  </tbody>\n",
       "</table>\n",
       "</div>"
      ],
      "text/plain": [
       "event       click  view\n",
       "date                   \n",
       "2019-04-01     17   491\n",
       "2019-04-02      6    93"
      ]
     },
     "execution_count": 5,
     "metadata": {},
     "output_type": "execute_result"
    }
   ],
   "source": [
    "metrics_by_day = df.groupby(['date', 'event'], as_index=False)\\\n",
    "                   .agg({'ad_id': 'count'})\\\n",
    "                   .pivot(index='date', columns='event', values='ad_id')\n",
    "metrics_by_day"
   ]
  },
  {
   "cell_type": "code",
   "execution_count": 6,
   "metadata": {},
   "outputs": [
    {
     "data": {
      "text/html": [
       "<div>\n",
       "<style scoped>\n",
       "    .dataframe tbody tr th:only-of-type {\n",
       "        vertical-align: middle;\n",
       "    }\n",
       "\n",
       "    .dataframe tbody tr th {\n",
       "        vertical-align: top;\n",
       "    }\n",
       "\n",
       "    .dataframe thead th {\n",
       "        text-align: right;\n",
       "    }\n",
       "</style>\n",
       "<table border=\"1\" class=\"dataframe\">\n",
       "  <thead>\n",
       "    <tr style=\"text-align: right;\">\n",
       "      <th>event</th>\n",
       "      <th>click</th>\n",
       "      <th>view</th>\n",
       "      <th>ctr</th>\n",
       "    </tr>\n",
       "    <tr>\n",
       "      <th>date</th>\n",
       "      <th></th>\n",
       "      <th></th>\n",
       "      <th></th>\n",
       "    </tr>\n",
       "  </thead>\n",
       "  <tbody>\n",
       "    <tr>\n",
       "      <th>2019-04-01</th>\n",
       "      <td>17</td>\n",
       "      <td>491</td>\n",
       "      <td>3.46</td>\n",
       "    </tr>\n",
       "    <tr>\n",
       "      <th>2019-04-02</th>\n",
       "      <td>6</td>\n",
       "      <td>93</td>\n",
       "      <td>6.45</td>\n",
       "    </tr>\n",
       "  </tbody>\n",
       "</table>\n",
       "</div>"
      ],
      "text/plain": [
       "event       click  view   ctr\n",
       "date                         \n",
       "2019-04-01     17   491  3.46\n",
       "2019-04-02      6    93  6.45"
      ]
     },
     "execution_count": 6,
     "metadata": {},
     "output_type": "execute_result"
    }
   ],
   "source": [
    "metrics_by_day['ctr'] = (100 * metrics_by_day['click'] / metrics_by_day['view']).round(2)\n",
    "metrics_by_day"
   ]
  },
  {
   "cell_type": "code",
   "execution_count": 7,
   "metadata": {},
   "outputs": [
    {
     "data": {
      "text/html": [
       "<div>\n",
       "<style scoped>\n",
       "    .dataframe tbody tr th:only-of-type {\n",
       "        vertical-align: middle;\n",
       "    }\n",
       "\n",
       "    .dataframe tbody tr th {\n",
       "        vertical-align: top;\n",
       "    }\n",
       "\n",
       "    .dataframe thead th {\n",
       "        text-align: right;\n",
       "    }\n",
       "</style>\n",
       "<table border=\"1\" class=\"dataframe\">\n",
       "  <thead>\n",
       "    <tr style=\"text-align: right;\">\n",
       "      <th>event</th>\n",
       "      <th>click</th>\n",
       "      <th>view</th>\n",
       "      <th>ctr</th>\n",
       "      <th>view_cost</th>\n",
       "    </tr>\n",
       "    <tr>\n",
       "      <th>date</th>\n",
       "      <th></th>\n",
       "      <th></th>\n",
       "      <th></th>\n",
       "      <th></th>\n",
       "    </tr>\n",
       "  </thead>\n",
       "  <tbody>\n",
       "    <tr>\n",
       "      <th>2019-04-01</th>\n",
       "      <td>17</td>\n",
       "      <td>491</td>\n",
       "      <td>3.46</td>\n",
       "      <td>0.1874</td>\n",
       "    </tr>\n",
       "    <tr>\n",
       "      <th>2019-04-02</th>\n",
       "      <td>6</td>\n",
       "      <td>93</td>\n",
       "      <td>6.45</td>\n",
       "      <td>0.1874</td>\n",
       "    </tr>\n",
       "  </tbody>\n",
       "</table>\n",
       "</div>"
      ],
      "text/plain": [
       "event       click  view   ctr  view_cost\n",
       "date                                    \n",
       "2019-04-01     17   491  3.46     0.1874\n",
       "2019-04-02      6    93  6.45     0.1874"
      ]
     },
     "execution_count": 7,
     "metadata": {},
     "output_type": "execute_result"
    }
   ],
   "source": [
    "metrics_by_day['view_cost'] = df['ad_cost'].unique()[0] / 1000\n",
    "metrics_by_day"
   ]
  },
  {
   "cell_type": "code",
   "execution_count": 8,
   "metadata": {},
   "outputs": [
    {
     "data": {
      "text/html": [
       "<div>\n",
       "<style scoped>\n",
       "    .dataframe tbody tr th:only-of-type {\n",
       "        vertical-align: middle;\n",
       "    }\n",
       "\n",
       "    .dataframe tbody tr th {\n",
       "        vertical-align: top;\n",
       "    }\n",
       "\n",
       "    .dataframe thead th {\n",
       "        text-align: right;\n",
       "    }\n",
       "</style>\n",
       "<table border=\"1\" class=\"dataframe\">\n",
       "  <thead>\n",
       "    <tr style=\"text-align: right;\">\n",
       "      <th>event</th>\n",
       "      <th>click</th>\n",
       "      <th>view</th>\n",
       "      <th>ctr</th>\n",
       "      <th>view_cost</th>\n",
       "      <th>total_cost</th>\n",
       "    </tr>\n",
       "    <tr>\n",
       "      <th>date</th>\n",
       "      <th></th>\n",
       "      <th></th>\n",
       "      <th></th>\n",
       "      <th></th>\n",
       "      <th></th>\n",
       "    </tr>\n",
       "  </thead>\n",
       "  <tbody>\n",
       "    <tr>\n",
       "      <th>2019-04-01</th>\n",
       "      <td>17</td>\n",
       "      <td>491</td>\n",
       "      <td>3.46</td>\n",
       "      <td>0.1874</td>\n",
       "      <td>92.01</td>\n",
       "    </tr>\n",
       "    <tr>\n",
       "      <th>2019-04-02</th>\n",
       "      <td>6</td>\n",
       "      <td>93</td>\n",
       "      <td>6.45</td>\n",
       "      <td>0.1874</td>\n",
       "      <td>17.43</td>\n",
       "    </tr>\n",
       "  </tbody>\n",
       "</table>\n",
       "</div>"
      ],
      "text/plain": [
       "event       click  view   ctr  view_cost  total_cost\n",
       "date                                                \n",
       "2019-04-01     17   491  3.46     0.1874       92.01\n",
       "2019-04-02      6    93  6.45     0.1874       17.43"
      ]
     },
     "execution_count": 8,
     "metadata": {},
     "output_type": "execute_result"
    }
   ],
   "source": [
    "metrics_by_day['total_cost'] = (metrics_by_day['view_cost'] * metrics_by_day['view']).round(2)\n",
    "metrics_by_day"
   ]
  },
  {
   "cell_type": "code",
   "execution_count": 9,
   "metadata": {},
   "outputs": [],
   "source": [
    "def count_change(column):\n",
    "    \"\"\"\n",
    "    Эта функция считает темп прироста показателя для каждого дня.\n",
    "    В качестве аргумента принимает столбец (серию) со значениями показателя.\n",
    "    Возвращает список с темпами прироста для каждого дня.\n",
    "    \"\"\"\n",
    "    change_list = [0]\n",
    "    for i in range(1, len(column)):\n",
    "        change_list.append(int((100 * column[i] / column[i-1] - 100).round()))\n",
    "    return change_list"
   ]
  },
  {
   "cell_type": "code",
   "execution_count": 10,
   "metadata": {},
   "outputs": [],
   "source": [
    "# Вызываем функцию от нужных нам столбцов и помещаем полученные значения темпов прироста в новые столбцы\n",
    "\n",
    "metrics_by_day['click_change'] = count_change(metrics_by_day['click'])\n",
    "metrics_by_day['view_change'] = count_change(metrics_by_day['view'])\n",
    "metrics_by_day['ctr_change'] = count_change(metrics_by_day['ctr'])\n",
    "metrics_by_day['total_cost_change'] = count_change(metrics_by_day['total_cost'])"
   ]
  },
  {
   "cell_type": "code",
   "execution_count": 11,
   "metadata": {},
   "outputs": [
    {
     "name": "stdout",
     "output_type": "stream",
     "text": [
      "Метрики рассчитаны\n"
     ]
    }
   ],
   "source": [
    "print('Метрики рассчитаны')"
   ]
  },
  {
   "cell_type": "code",
   "execution_count": 12,
   "metadata": {},
   "outputs": [
    {
     "data": {
      "text/html": [
       "<div>\n",
       "<style scoped>\n",
       "    .dataframe tbody tr th:only-of-type {\n",
       "        vertical-align: middle;\n",
       "    }\n",
       "\n",
       "    .dataframe tbody tr th {\n",
       "        vertical-align: top;\n",
       "    }\n",
       "\n",
       "    .dataframe thead th {\n",
       "        text-align: right;\n",
       "    }\n",
       "</style>\n",
       "<table border=\"1\" class=\"dataframe\">\n",
       "  <thead>\n",
       "    <tr style=\"text-align: right;\">\n",
       "      <th>event</th>\n",
       "      <th>click</th>\n",
       "      <th>view</th>\n",
       "      <th>ctr</th>\n",
       "      <th>view_cost</th>\n",
       "      <th>total_cost</th>\n",
       "      <th>click_change</th>\n",
       "      <th>view_change</th>\n",
       "      <th>ctr_change</th>\n",
       "      <th>total_cost_change</th>\n",
       "    </tr>\n",
       "    <tr>\n",
       "      <th>date</th>\n",
       "      <th></th>\n",
       "      <th></th>\n",
       "      <th></th>\n",
       "      <th></th>\n",
       "      <th></th>\n",
       "      <th></th>\n",
       "      <th></th>\n",
       "      <th></th>\n",
       "      <th></th>\n",
       "    </tr>\n",
       "  </thead>\n",
       "  <tbody>\n",
       "    <tr>\n",
       "      <th>2019-04-01</th>\n",
       "      <td>17</td>\n",
       "      <td>491</td>\n",
       "      <td>3.46</td>\n",
       "      <td>0.1874</td>\n",
       "      <td>92.01</td>\n",
       "      <td>0</td>\n",
       "      <td>0</td>\n",
       "      <td>0</td>\n",
       "      <td>0</td>\n",
       "    </tr>\n",
       "    <tr>\n",
       "      <th>2019-04-02</th>\n",
       "      <td>6</td>\n",
       "      <td>93</td>\n",
       "      <td>6.45</td>\n",
       "      <td>0.1874</td>\n",
       "      <td>17.43</td>\n",
       "      <td>-65</td>\n",
       "      <td>-81</td>\n",
       "      <td>86</td>\n",
       "      <td>-81</td>\n",
       "    </tr>\n",
       "  </tbody>\n",
       "</table>\n",
       "</div>"
      ],
      "text/plain": [
       "event       click  view   ctr  view_cost  total_cost  click_change  \\\n",
       "date                                                                 \n",
       "2019-04-01     17   491  3.46     0.1874       92.01             0   \n",
       "2019-04-02      6    93  6.45     0.1874       17.43           -65   \n",
       "\n",
       "event       view_change  ctr_change  total_cost_change  \n",
       "date                                                    \n",
       "2019-04-01            0           0                  0  \n",
       "2019-04-02          -81          86                -81  "
      ]
     },
     "execution_count": 12,
     "metadata": {},
     "output_type": "execute_result"
    }
   ],
   "source": [
    "metrics_by_day"
   ]
  },
  {
   "cell_type": "code",
   "execution_count": 13,
   "metadata": {},
   "outputs": [],
   "source": [
    "# Заводим переменные, необходимые для оформления отчета\n",
    "\n",
    "current_date = metrics_by_day.index[-1]\n",
    "\n",
    "ad_id = df['ad_id'].unique()[0]\n",
    "\n",
    "click = metrics_by_day.loc[current_date, 'click']\n",
    "\n",
    "click_change = metrics_by_day.loc[current_date, 'click_change']\n",
    "\n",
    "view = metrics_by_day.loc[current_date, 'view']\n",
    "\n",
    "view_change = metrics_by_day.loc[current_date, 'view_change']\n",
    "\n",
    "costs = metrics_by_day.loc[current_date, 'total_cost']\n",
    "\n",
    "costs_change = metrics_by_day.loc[current_date, 'total_cost_change']\n",
    "\n",
    "ctr = metrics_by_day.loc[current_date, 'ctr']\n",
    "\n",
    "ctr_change = metrics_by_day.loc[current_date, 'ctr_change']"
   ]
  },
  {
   "cell_type": "code",
   "execution_count": 19,
   "metadata": {},
   "outputs": [],
   "source": [
    "# Создаем текстовый файл с отчетом\n",
    "\n",
    "report_file_name = 'metrics_report_{:%Y-%m-%d}.txt'.format(current_date)\n",
    "\n",
    "with open(report_file_name, 'w') as f:\n",
    "    print('{:%B %d, %Y}: '.format(current_date) + f'отчет по объявлению {ad_id}',\n",
    "          '',\n",
    "          f'Траты: {costs} руб. ' + '({0:+d}%)'.format(costs_change),\n",
    "          f'Показы: {view} ' + '({0:+d}%)'.format(view_change),\n",
    "          f'Клики: {click} ' + '({0:+d}%)'.format(click_change),\n",
    "          f'CTR: {ctr}% ' + '({0:+d}%)'.format(ctr_change),\n",
    "          sep='\\n', file=f)"
   ]
  },
  {
   "cell_type": "code",
   "execution_count": 20,
   "metadata": {},
   "outputs": [],
   "source": [
    "# Отправляем текст отчета в ВК"
   ]
  },
  {
   "cell_type": "code",
   "execution_count": 21,
   "metadata": {},
   "outputs": [],
   "source": [
    "import vk_api\n",
    "import numpy as np\n",
    "import requests\n",
    "import json"
   ]
  },
  {
   "cell_type": "code",
   "execution_count": 22,
   "metadata": {},
   "outputs": [],
   "source": [
    "with open(report_file_name, 'r') as f:\n",
    "    text = f.readlines()\n",
    "message_text = ''.join(text)"
   ]
  },
  {
   "cell_type": "code",
   "execution_count": 23,
   "metadata": {},
   "outputs": [
    {
     "data": {
      "text/plain": [
       "25"
      ]
     },
     "execution_count": 23,
     "metadata": {},
     "output_type": "execute_result"
    }
   ],
   "source": [
    "app_token = '9b74092af5460e8ef9cc47402fc4453866526af9979a98a9fea5b6341fe2e78b9998ceea2996f06bad0cb'\n",
    "chat_id = 1\n",
    "my_id = 1073831\n",
    "vk_session = vk_api.VkApi(token=app_token)\n",
    "vk = vk_session.get_api()\n",
    "\n",
    "vk.messages.send(\n",
    "    chat_id=chat_id,\n",
    "    random_id=np.random.randint(1, 2 ** 31),\n",
    "    message=message_text)"
   ]
  },
  {
   "cell_type": "code",
   "execution_count": 24,
   "metadata": {},
   "outputs": [],
   "source": [
    "# Отправляем файл с отчетом в ВК"
   ]
  },
  {
   "cell_type": "code",
   "execution_count": 25,
   "metadata": {
    "scrolled": true
   },
   "outputs": [
    {
     "data": {
      "text/plain": [
       "26"
      ]
     },
     "execution_count": 25,
     "metadata": {},
     "output_type": "execute_result"
    }
   ],
   "source": [
    "path_to_file = '/home/jupyter-d.kuznetsov-5/homework/Airflow dag/' + report_file_name\n",
    "file_name = report_file_name\n",
    "\n",
    "upload_url = vk.docs.getMessagesUploadServer(peer_id=my_id)[\"upload_url\"]\n",
    "file = {'file': (file_name, open(path_to_file, 'rb'))}\n",
    "\n",
    "response = requests.post(upload_url, files=file)\n",
    "\n",
    "json_data = json.loads(response.text)\n",
    "\n",
    "saved_file = vk.docs.save(file=json_data['file'], title=file_name)\n",
    "attachment = 'doc{}_{}'.format(saved_file['doc']['owner_id'], saved_file['doc']['id'])\n",
    "\n",
    "vk.messages.send(\n",
    "    chat_id=chat_id,  \n",
    "    random_id=np.random.randint(1, 2 ** 31),\n",
    "    message='',\n",
    "    attachment=attachment)"
   ]
  },
  {
   "cell_type": "code",
   "execution_count": 26,
   "metadata": {},
   "outputs": [
    {
     "name": "stdout",
     "output_type": "stream",
     "text": [
      "Отчет отправлен\n"
     ]
    }
   ],
   "source": [
    "print('Отчет отправлен')"
   ]
  },
  {
   "cell_type": "code",
   "execution_count": null,
   "metadata": {},
   "outputs": [],
   "source": []
  }
 ],
 "metadata": {
  "kernelspec": {
   "display_name": "Python 3",
   "language": "python",
   "name": "python3"
  },
  "language_info": {
   "codemirror_mode": {
    "name": "ipython",
    "version": 3
   },
   "file_extension": ".py",
   "mimetype": "text/x-python",
   "name": "python",
   "nbconvert_exporter": "python",
   "pygments_lexer": "ipython3",
   "version": "3.7.3"
  }
 },
 "nbformat": 4,
 "nbformat_minor": 4
}
